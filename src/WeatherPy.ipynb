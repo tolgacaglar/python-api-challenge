{
 "cells": [
  {
   "cell_type": "markdown",
   "metadata": {},
   "source": [
    "# WeatherPy\n",
    "----\n",
    "\n",
    "#### Note\n",
    "* Instructions have been included for each segment. You do not have to follow them exactly, but they are included to help you think through the steps."
   ]
  },
  {
   "cell_type": "code",
   "execution_count": 1,
   "metadata": {
    "scrolled": true
   },
   "outputs": [],
   "source": [
    "# Dependencies and Setup\n",
    "import matplotlib.pyplot as plt\n",
    "import pandas as pd\n",
    "import numpy as np\n",
    "import requests\n",
    "import time\n",
    "import sys\n",
    "\n",
    "from scipy.stats import linregress\n",
    "\n",
    "# Import API key\n",
    "from api_keys import weather_api_key\n",
    "\n",
    "# Incorporated citipy to determine city based on latitude and longitude\n",
    "from citipy import citipy\n",
    "\n",
    "# Output File (CSV)\n",
    "output_data_file = \"output_data/cities.csv\"\n",
    "\n",
    "# Range of latitudes and longitudes\n",
    "lat_range = (-90, 90)\n",
    "lng_range = (-180, 180)"
   ]
  },
  {
   "cell_type": "markdown",
   "metadata": {},
   "source": [
    "## Generate Cities List"
   ]
  },
  {
   "cell_type": "code",
   "execution_count": 2,
   "metadata": {},
   "outputs": [
    {
     "data": {
      "text/plain": [
       "597"
      ]
     },
     "metadata": {},
     "output_type": "display_data"
    }
   ],
   "source": [
    "# List for holding lat_lngs and cities\n",
    "lat_lngs = []\n",
    "cities = []\n",
    "\n",
    "# Create a set of random lat and lng combinations\n",
    "lats = np.random.uniform(lat_range[0], lat_range[1], size=1500)\n",
    "lngs = np.random.uniform(lng_range[0], lng_range[1], size=1500)\n",
    "lat_lngs = zip(lats, lngs)\n",
    "\n",
    "# Identify nearest city for each lat, lng combination\n",
    "for lat_lng in lat_lngs:\n",
    "    city = citipy.nearest_city(lat_lng[0], lat_lng[1]).city_name\n",
    "    \n",
    "    # If the city is unique, then add it to a our cities list\n",
    "    if city not in cities:\n",
    "        cities.append(city)\n",
    "\n",
    "# Print the city count to confirm sufficient count\n",
    "display(len(cities))"
   ]
  },
  {
   "cell_type": "markdown",
   "metadata": {},
   "source": [
    "### Perform API Calls\n",
    "* Perform a weather check on each city using a series of successive API calls.\n",
    "* Include a print log of each city as it'sbeing processed (with the city number and city name).\n"
   ]
  },
  {
   "cell_type": "markdown",
   "metadata": {},
   "source": [
    "### Handling limited API requests\n",
    "- The number of requests from openweather api is limited to 60 requests per minute. To stay inside this limit\n",
    "1. Divide the cities into sets of 60\n",
    "2. Request api for every 0.1 second using time.sleep(0.1)\n",
    "3. Make sure that the requests are limited to 1 set per minute, by waiting the aditional amount at the end of the set"
   ]
  },
  {
   "cell_type": "code",
   "execution_count": 3,
   "metadata": {},
   "outputs": [
    {
     "name": "stdout",
     "output_type": "stream",
     "text": [
      "city not found (samusu)                u                        \n",
      "city not found (karkaralinsk)                k                \n",
      "city not found (ngukurr)                rr                             \n",
      "city not found (mys shmidta)                ta                \n",
      "city not found (attawapiskat)                at                \n",
      "city not found (tumannyy)                yy                 \n",
      "city not found (tungkang)                ng                    \n",
      "city not found (targu-lapus)                us                 \n",
      "city not found (vaitupu)                pu                             \n",
      "city not found (satitoa)                oa                     \n",
      "city not found (anar darreh)                eh                \n",
      "city not found (achisay)                ay                 \n",
      "city not found (tabiauea)                uea                            \n",
      "city not found (nizhneyansk)                nsk                \n",
      "city not found (macaboboni)                oni                               \n",
      "city not found (kamenskoye)                oye                \n",
      "city not found (shkotovo-26)                -26                \n",
      "city not found (barentsburg)                urg                \n",
      "city not found (stoyba)                yba                   \n",
      "city not found (viligili)                ili                \n",
      "city not found (bocaranga)                nga                     \n",
      "city not found (cagayan de tawi-tawi)                awi                \n",
      "city not found (illoqqortoormiut)                iut                \n",
      "city not found (dien bien)                ien                     \n",
      "city not found (saleaula)                ula                   \n",
      "city not found (hihifo)                ifo                      \n",
      "city not found (taolanaro)                aro                \n",
      "city not found (samalaeulu)                ulu                              \n",
      "city not found (palabuhanratu)                atu                      \n",
      "city not found (artyk)                tyk                \n",
      "city not found (amderma)                rma                   \n",
      "city not found (gurskoye)                oye                     \n",
      "city not found (huetamo)                amo                       \n",
      "city not found (urdzhar)                har                    \n",
      "city not found (scottsburgh)                rgh                       \n",
      "city not found (suao)                uao                \n",
      "city not found (belushya guba)                uba                      \n",
      "city not found (sentyabrskiy)                kiy                \n",
      "city not found (marcona)                ona                       \n",
      "city not found (toliary)                ary                \n",
      "city not found (mullaitivu)                ivu                          \n",
      "city not found (inderborskiy)                kiy                       \n",
      "city not found (malwan)                wan                 \n",
      "city not found (doctor pedro p. pena)                ena                \n",
      "city not found (burica)                ica                     \n",
      "city not found (umzimvubu)                ubu                   \n",
      "city not found (yomitan)                tan                 \n",
      "city not found (kuche)                che                        \n",
      "city not found (bo)                 bo                                   \n",
      "city not found (labutta)                tta                   \n",
      "city not found (louisbourg)                urg                \n",
      "city not found (crab hill)                ill                          \n",
      "city not found (tabialan)                lan                                 \n",
      "city not found (warqla)                qla                             \n",
      "city not found (rungata)                ata                        \n",
      "city not found (kadykchan)                han                    \n",
      "city not found (grand river south east)                ast                \n",
      "city not found (yirol)                rol                        \n",
      "city not found (sorvag)                rvag                             \n",
      "city not found (borama)                rama                                 \n",
      "city not found (gurgan)                rgan                      \n",
      "city not found (bolungarvik)                rvik                \n",
      "city not found (bolshiye berezniki)                niki                \n",
      "---------------------------t 10/10 | manta                                \n",
      "Data Retrieval Complete\n",
      "---------------------------\n"
     ]
    }
   ],
   "source": [
    "api_req_limit = 60   # number of requests limited per minute\n",
    "number_of_sets = int(len(cities)/api_req_limit) + 1\n",
    "city_count = 0   # counter runs through the list cities\n",
    "\n",
    "# Variables to hold in the dataframe for each city\n",
    "latitude_lst = []\n",
    "longitude_lst = []\n",
    "max_temperature_lst = []\n",
    "humidity_lst = []\n",
    "cloud_coverage_lst = []\n",
    "wind_speed_lst = []\n",
    "country_lst = []\n",
    "datetime_lst = []\n",
    "city_lst = []\n",
    "\n",
    "for six in range(number_of_sets):\n",
    "    start_time = time.time()   # in seconds\n",
    "    for cix in range(api_req_limit):\n",
    "        try:\n",
    "            city = cities[city_count]\n",
    "        except IndexError:  # api_req_limit*number_of_sets may exceed len(cities), giving and IndexError\n",
    "            print(\"---------------------------\")\n",
    "            print(\"Data Retrieval Complete\")\n",
    "            print(\"---------------------------\")\n",
    "            break\n",
    "        print(\"Processing Record %d of Set %d/%d | %s\" % (city_count, six+1, number_of_sets, city),\n",
    "              end=\"                \\r\", flush=True)   # Clear line and flush output\n",
    "        \n",
    "        request_url = \"https://api.openweathermap.org/data/2.5/weather?q=%s&appid=%s\" % (city, weather_api_key)\n",
    "        \n",
    "        response = requests.get(request_url)\n",
    "        response_json = response.json()\n",
    "        \n",
    "        if response_json[\"cod\"] == \"404\":  # Print Error Message\n",
    "            print(response_json[\"message\"] + f\" ({city})                \")\n",
    "        else:\n",
    "            # Append information from json to a list\n",
    "            city_lst.append(city)\n",
    "            latitude_lst.append(response_json[\"coord\"][\"lat\"])\n",
    "            longitude_lst.append(response_json[\"coord\"][\"lon\"])\n",
    "            max_temperature_lst.append(response_json[\"main\"][\"temp_max\"])\n",
    "            humidity_lst.append(response_json[\"main\"][\"humidity\"])\n",
    "            cloud_coverage_lst.append(response_json[\"clouds\"][\"all\"])\n",
    "            wind_speed_lst.append(response_json[\"wind\"][\"speed\"])\n",
    "            country_lst.append(response_json[\"sys\"][\"country\"])\n",
    "            datetime_lst.append(response_json[\"dt\"])\n",
    "                    \n",
    "        city_count += 1\n",
    "        time.sleep(0.5)\n",
    "    \n",
    "    set_time = time.time()\n",
    "    # Wait for additional amount until 1 min is reached if there are more sets to acquire\n",
    "    if (set_time - start_time) < 60 and (six < number_of_sets-1):\n",
    "        print(\"waiting additional %d seconds before moving into Set %d/%d\" % (60 - (set_time - start_time), six+2, number_of_sets), \n",
    "                end=\"               \\r\",   # Clear line and return to beginning\n",
    "                flush=True)    # Flush output\n",
    "        time.sleep(np.ceil(60 - (set_time - start_time)))\n",
    "        "
   ]
  },
  {
   "cell_type": "markdown",
   "metadata": {},
   "source": [
    "### Convert Raw Data to DataFrame\n",
    "* Export the city data into a .csv.\n",
    "* Display the DataFrame"
   ]
  },
  {
   "cell_type": "code",
   "execution_count": 4,
   "metadata": {},
   "outputs": [],
   "source": [
    "city_data_dict = {\"City\": city_lst,\n",
    "                  \"Cloudiness\": cloud_coverage_lst,\n",
    "                  \"Country\": country_lst,\n",
    "                  \"Date\": datetime_lst,\n",
    "                  \"Humidity\": humidity_lst,\n",
    "                  \"Lat\": latitude_lst,\n",
    "                  \"Lng\": longitude_lst,\n",
    "                  \"Max Temp\": max_temperature_lst,\n",
    "                  \"Wind Speed\": wind_speed_lst}\n",
    "\n",
    "city_data_df = pd.DataFrame(city_data_dict)\n",
    "\n",
    "# Save to csv with no index\n",
    "csv_path = \"C:/Users/Tolga/Dropbox/Data Bootcamp/Homeworks/python-api-challenge/output_data/city_data.csv\"\n",
    "city_data_df.to_csv(csv_path, index_label=\"City_ID\")"
   ]
  },
  {
   "cell_type": "markdown",
   "metadata": {},
   "source": [
    "## Inspect the data and remove the cities where the humidity > 100%.\n",
    "----\n",
    "Skip this step if there are no cities that have humidity > 100%. "
   ]
  },
  {
   "cell_type": "code",
   "execution_count": 5,
   "metadata": {},
   "outputs": [],
   "source": [
    "mask_of_nonphys_humidity = city_data_df[\"Humidity\"] > 100\n",
    "\n",
    "if (mask_of_nonphys_humidity.sum() > 0):\n",
    "    print(\"Humidity exceeding 100 for rows:\")\n",
    "    city_data_df[mask_of_nonphys_humidity]"
   ]
  },
  {
   "cell_type": "code",
   "execution_count": 6,
   "metadata": {},
   "outputs": [],
   "source": [
    "#  Get the indices of cities that have humidity over 100%.\n",
    "index_of_nonphys_humidity = city_data_df[mask_of_nonphys_humidity].index"
   ]
  },
  {
   "cell_type": "code",
   "execution_count": 7,
   "metadata": {},
   "outputs": [],
   "source": [
    "# Make a new DataFrame equal to the city data to drop all humidity outliers by index.\n",
    "# Passing \"inplace=False\" will make a copy of the city_data DataFrame, which we call \"clean_city_data\".\n",
    "clean_city_data_df = city_data_df.drop(index = index_of_nonphys_humidity , inplace= False)"
   ]
  },
  {
   "cell_type": "markdown",
   "metadata": {},
   "source": [
    "## Plotting the Data\n",
    "* Use proper labeling of the plots using plot titles (including date of analysis) and axes labels.\n",
    "* Save the plotted figures as .pngs."
   ]
  },
  {
   "cell_type": "markdown",
   "metadata": {},
   "source": [
    "## Latitude vs. Temperature Plot"
   ]
  },
  {
   "cell_type": "code",
   "execution_count": 8,
   "metadata": {},
   "outputs": [
    {
     "data": {
      "text/plain": [
       "<AxesSubplot:xlabel='Lat', ylabel='Max Temp'>"
      ]
     },
     "execution_count": 8,
     "metadata": {},
     "output_type": "execute_result"
    },
    {
     "data": {
      "image/png": "[encoded data removed]",
      "text/plain": [
       "<Figure size 432x288 with 1 Axes>"
      ]
     },
     "metadata": {
      "needs_background": "light"
     },
     "output_type": "display_data"
    }
   ],
   "source": [
    "clean_city_data_df.plot(kind=\"scatter\", x=\"Lat\", y=\"Max Temp\")"
   ]
  },
  {
   "cell_type": "markdown",
   "metadata": {},
   "source": [
    "## Latitude vs. Humidity Plot"
   ]
  },
  {
   "cell_type": "code",
   "execution_count": 10,
   "metadata": {},
   "outputs": [
    {
     "data": {
      "text/plain": [
       "<AxesSubplot:xlabel='Lat', ylabel='Humidity'>"
      ]
     },
     "execution_count": 10,
     "metadata": {},
     "output_type": "execute_result"
    },
    {
     "data": {
      "image/png": "[encoded data removed]",
      "text/plain": [
       "<Figure size 432x288 with 1 Axes>"
      ]
     },
     "metadata": {
      "needs_background": "light"
     },
     "output_type": "display_data"
    }
   ],
   "source": [
    "clean_city_data_df.plot(kind=\"scatter\", x=\"Lat\", y=\"Humidity\")"
   ]
  },
  {
   "cell_type": "markdown",
   "metadata": {},
   "source": [
    "## Latitude vs. Cloudiness Plot"
   ]
  },
  {
   "cell_type": "code",
   "execution_count": 11,
   "metadata": {},
   "outputs": [
    {
     "data": {
      "text/plain": [
       "<AxesSubplot:xlabel='Lat', ylabel='Cloudiness'>"
      ]
     },
     "execution_count": 11,
     "metadata": {},
     "output_type": "execute_result"
    },
    {
     "data": {
      "image/png": "[encoded data removed]",
      "text/plain": [
       "<Figure size 432x288 with 1 Axes>"
      ]
     },
     "metadata": {
      "needs_background": "light"
     },
     "output_type": "display_data"
    }
   ],
   "source": [
    "clean_city_data_df.plot(kind=\"scatter\", x=\"Lat\", y=\"Cloudiness\")"
   ]
  },
  {
   "cell_type": "markdown",
   "metadata": {},
   "source": [
    "## Latitude vs. Wind Speed Plot"
   ]
  },
  {
   "cell_type": "code",
   "execution_count": 12,
   "metadata": {},
   "outputs": [
    {
     "data": {
      "text/plain": [
       "<AxesSubplot:xlabel='Lat', ylabel='Wind Speed'>"
      ]
     },
     "execution_count": 12,
     "metadata": {},
     "output_type": "execute_result"
    },
    {
     "data": {
      "image/png": "[encoded data removed]",
      "text/plain": [
       "<Figure size 432x288 with 1 Axes>"
      ]
     },
     "metadata": {
      "needs_background": "light"
     },
     "output_type": "display_data"
    }
   ],
   "source": [
    "clean_city_data_df.plot(kind=\"scatter\", x=\"Lat\", y=\"Wind Speed\")"
   ]
  },
  {
   "cell_type": "markdown",
   "metadata": {},
   "source": [
    "## Linear Regression"
   ]
  },
  {
   "cell_type": "code",
   "execution_count": null,
   "metadata": {},
   "outputs": [],
   "source": []
  },
  {
   "cell_type": "markdown",
   "metadata": {},
   "source": [
    "####  Northern Hemisphere - Max Temp vs. Latitude Linear Regression"
   ]
  },
  {
   "cell_type": "code",
   "execution_count": null,
   "metadata": {},
   "outputs": [],
   "source": []
  },
  {
   "cell_type": "markdown",
   "metadata": {},
   "source": [
    "####  Southern Hemisphere - Max Temp vs. Latitude Linear Regression"
   ]
  },
  {
   "cell_type": "code",
   "execution_count": null,
   "metadata": {},
   "outputs": [],
   "source": []
  },
  {
   "cell_type": "markdown",
   "metadata": {},
   "source": [
    "####  Northern Hemisphere - Humidity (%) vs. Latitude Linear Regression"
   ]
  },
  {
   "cell_type": "code",
   "execution_count": null,
   "metadata": {},
   "outputs": [],
   "source": []
  },
  {
   "cell_type": "markdown",
   "metadata": {},
   "source": [
    "####  Southern Hemisphere - Humidity (%) vs. Latitude Linear Regression"
   ]
  },
  {
   "cell_type": "code",
   "execution_count": null,
   "metadata": {},
   "outputs": [],
   "source": []
  },
  {
   "cell_type": "markdown",
   "metadata": {},
   "source": [
    "####  Northern Hemisphere - Cloudiness (%) vs. Latitude Linear Regression"
   ]
  },
  {
   "cell_type": "code",
   "execution_count": null,
   "metadata": {},
   "outputs": [],
   "source": []
  },
  {
   "cell_type": "markdown",
   "metadata": {},
   "source": [
    "####  Southern Hemisphere - Cloudiness (%) vs. Latitude Linear Regression"
   ]
  },
  {
   "cell_type": "code",
   "execution_count": null,
   "metadata": {},
   "outputs": [],
   "source": []
  },
  {
   "cell_type": "markdown",
   "metadata": {},
   "source": [
    "####  Northern Hemisphere - Wind Speed (mph) vs. Latitude Linear Regression"
   ]
  },
  {
   "cell_type": "code",
   "execution_count": null,
   "metadata": {},
   "outputs": [],
   "source": []
  },
  {
   "cell_type": "markdown",
   "metadata": {},
   "source": [
    "####  Southern Hemisphere - Wind Speed (mph) vs. Latitude Linear Regression"
   ]
  },
  {
   "cell_type": "code",
   "execution_count": null,
   "metadata": {},
   "outputs": [],
   "source": []
  },
  {
   "cell_type": "code",
   "execution_count": null,
   "metadata": {},
   "outputs": [],
   "source": []
  }
 ],
 "metadata": {
  "anaconda-cloud": {},
  "kernel_info": {
   "name": "python3"
  },
  "kernelspec": {
   "display_name": "Python 3",
   "language": "python",
   "name": "python3"
  },
  "language_info": {
   "codemirror_mode": {
    "name": "ipython",
    "version": 3
   },
   "file_extension": ".py",
   "mimetype": "text/x-python",
   "name": "python",
   "nbconvert_exporter": "python",
   "pygments_lexer": "ipython3",
   "version": "3.8.5"
  },
  "latex_envs": {
   "LaTeX_envs_menu_present": true,
   "autoclose": false,
   "autocomplete": true,
   "bibliofile": "biblio.bib",
   "cite_by": "apalike",
   "current_citInitial": 1,
   "eqLabelWithNumbers": true,
   "eqNumInitial": 1,
   "hotkeys": {
    "equation": "Ctrl-E",
    "itemize": "Ctrl-I"
   },
   "labels_anchors": false,
   "latex_user_defs": false,
   "report_style_numbering": false,
   "user_envs_cfg": false
  },
  "nteract": {
   "version": "0.12.3"
  }
 },
 "nbformat": 4,
 "nbformat_minor": 2
}
