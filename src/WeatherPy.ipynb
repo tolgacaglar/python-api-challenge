{
 "cells": [
  {
   "cell_type": "markdown",
   "metadata": {},
   "source": [
    "# WeatherPy\n",
    "----\n",
    "\n",
    "#### Note\n",
    "* Instructions have been included for each segment. You do not have to follow them exactly, but they are included to help you think through the steps."
   ]
  },
  {
   "cell_type": "code",
   "execution_count": 1,
   "metadata": {
    "scrolled": true
   },
   "outputs": [],
   "source": [
    "# Dependencies and Setup\n",
    "import matplotlib.pyplot as plt\n",
    "import pandas as pd\n",
    "import numpy as np\n",
    "import requests\n",
    "import time\n",
    "from scipy.stats import linregress\n",
    "\n",
    "# Import API key\n",
    "from api_keys import weather_api_key\n",
    "\n",
    "# Incorporated citipy to determine city based on latitude and longitude\n",
    "from citipy import citipy\n",
    "\n",
    "# Output File (CSV)\n",
    "output_data_file = \"output_data/cities.csv\"\n",
    "\n",
    "# Range of latitudes and longitudes\n",
    "lat_range = (-90, 90)\n",
    "lng_range = (-180, 180)"
   ]
  },
  {
   "cell_type": "markdown",
   "metadata": {},
   "source": [
    "## Generate Cities List"
   ]
  },
  {
   "cell_type": "code",
   "execution_count": 6,
   "metadata": {},
   "outputs": [
    {
     "data": {
      "text/plain": [
       "28"
      ]
     },
     "metadata": {},
     "output_type": "display_data"
    },
    {
     "data": {
      "text/plain": [
       "['santa maria',\n",
       " 'tiksi',\n",
       " 'rikitea',\n",
       " 'jamestown',\n",
       " 'campbell river',\n",
       " 'ushuaia',\n",
       " 'karpathos',\n",
       " 'illoqqortoormiut',\n",
       " 'phan rang',\n",
       " 'mahebourg',\n",
       " 'tasiilaq',\n",
       " 'vaini',\n",
       " 'mataura',\n",
       " 'sitka',\n",
       " 'victor harbor',\n",
       " 'nizhneyansk',\n",
       " 'puerto ayora',\n",
       " 'chicama',\n",
       " 'rocha',\n",
       " 'avarua',\n",
       " 'castro',\n",
       " 'tsihombe',\n",
       " 'lagoa',\n",
       " 'atuona',\n",
       " 'thompson',\n",
       " 'cururupu',\n",
       " 'mount gambier',\n",
       " 'albany']"
      ]
     },
     "metadata": {},
     "output_type": "display_data"
    }
   ],
   "source": [
    "# List for holding lat_lngs and cities\n",
    "lat_lngs = []\n",
    "cities = []\n",
    "\n",
    "# Create a set of random lat and lng combinations\n",
    "# lats = np.random.uniform(lat_range[0], lat_range[1], size=1500)\n",
    "# lngs = np.random.uniform(lng_range[0], lng_range[1], size=1500)\n",
    "lats = np.random.uniform(lat_range[0], lat_range[1], size=30)\n",
    "lngs = np.random.uniform(lng_range[0], lng_range[1], size=30)\n",
    "lat_lngs = zip(lats, lngs)\n",
    "\n",
    "# Identify nearest city for each lat, lng combination\n",
    "for lat_lng in lat_lngs:\n",
    "    city = citipy.nearest_city(lat_lng[0], lat_lng[1]).city_name\n",
    "    \n",
    "    # If the city is unique, then add it to a our cities list\n",
    "    if city not in cities:\n",
    "        cities.append(city)\n",
    "\n",
    "# Print the city count to confirm sufficient count\n",
    "display(len(cities))\n",
    "display(cities)"
   ]
  },
  {
   "cell_type": "markdown",
   "metadata": {},
   "source": [
    "### Perform API Calls\n",
    "* Perform a weather check on each city using a series of successive API calls.\n",
    "* Include a print log of each city as it'sbeing processed (with the city number and city name).\n"
   ]
  },
  {
   "cell_type": "code",
   "execution_count": 32,
   "metadata": {},
   "outputs": [
    {
     "name": "stdout",
     "output_type": "stream",
     "text": [
      "{'base': 'stations',\n",
      " 'clouds': {'all': 0},\n",
      " 'cod': 200,\n",
      " 'coord': {'lat': -29.68, 'lon': -53.81},\n",
      " 'dt': 1609463790,\n",
      " 'id': 3450083,\n",
      " 'main': {'feels_like': 292.76,\n",
      "          'humidity': 56,\n",
      "          'pressure': 1013,\n",
      "          'temp': 293.15,\n",
      "          'temp_max': 293.15,\n",
      "          'temp_min': 293.15},\n",
      " 'name': 'Santa Maria',\n",
      " 'sys': {'country': 'BR',\n",
      "         'id': 8430,\n",
      "         'sunrise': 1609403872,\n",
      "         'sunset': 1609454325,\n",
      "         'type': 1},\n",
      " 'timezone': -10800,\n",
      " 'visibility': 10000,\n",
      " 'weather': [{'description': 'clear sky',\n",
      "              'icon': '01n',\n",
      "              'id': 800,\n",
      "              'main': 'Clear'}],\n",
      " 'wind': {'deg': 280, 'speed': 1}}\n"
     ]
    }
   ],
   "source": [
    "from pprint import pprint\n",
    "\n",
    "# Check for a single city\n",
    "city = cities[0]\n",
    "\n",
    "request_url = \"https://api.openweathermap.org/data/2.5/weather?q=%s&appid=%s\" % (city, weather_api_key)\n",
    "response = requests.get(request_url)\n",
    "pprint(response.json())"
   ]
  },
  {
   "cell_type": "code",
   "execution_count": 33,
   "metadata": {},
   "outputs": [],
   "source": [
    "response.raise_for_status()"
   ]
  },
  {
   "cell_type": "markdown",
   "metadata": {},
   "source": [
    "### Handling limited API requests\n",
    "- The number of requests from openweather api is limited to 60 requests per minute. To stay inside this limit\n",
    "1. Divide the cities into sets of 60\n",
    "2. Request api for every 1 second using time.sleep(1)\n",
    "3. Make sure that the requests are limited to 1 set per minute, by waiting the aditional amount at the end of the set"
   ]
  },
  {
   "cell_type": "code",
   "execution_count": 35,
   "metadata": {},
   "outputs": [
    {
     "name": "stdout",
     "output_type": "stream",
     "text": [
      "Processing Record 0 of Set 1 | santa maria\n",
      "Processing Record 1 of Set 1 | tiksi\n",
      "Processing Record 2 of Set 1 | rikitea\n",
      "Processing Record 3 of Set 1 | jamestown\n",
      "Processing Record 4 of Set 1 | campbell river\n",
      "Processing Record 5 of Set 1 | ushuaia\n",
      "Processing Record 6 of Set 1 | karpathos\n",
      "Processing Record 7 of Set 1 | illoqqortoormiut\n",
      "City not found!\n",
      "Processing Record 8 of Set 1 | phan rang\n",
      "City not found!\n",
      "Processing Record 9 of Set 1 | mahebourg\n",
      "Processing Record 10 of Set 1 | tasiilaq\n",
      "Processing Record 11 of Set 1 | vaini\n",
      "Processing Record 12 of Set 1 | mataura\n",
      "Processing Record 13 of Set 1 | sitka\n",
      "Processing Record 14 of Set 1 | victor harbor\n",
      "Processing Record 15 of Set 1 | nizhneyansk\n",
      "City not found!\n",
      "Processing Record 16 of Set 1 | puerto ayora\n",
      "Processing Record 17 of Set 1 | chicama\n",
      "Processing Record 18 of Set 1 | rocha\n",
      "Processing Record 19 of Set 1 | avarua\n",
      "Processing Record 20 of Set 1 | castro\n",
      "Processing Record 21 of Set 1 | tsihombe\n",
      "City not found!\n",
      "Processing Record 22 of Set 1 | lagoa\n",
      "Processing Record 23 of Set 1 | atuona\n",
      "Processing Record 24 of Set 1 | thompson\n",
      "Processing Record 25 of Set 1 | cururupu\n",
      "Processing Record 26 of Set 1 | mount gambier\n",
      "Processing Record 27 of Set 1 | albany\n",
      "---------------------------\n",
      "Data Retrieval Complete\n",
      "---------------------------\n",
      "waiting additional 18 seconds before moving into the next Set\n"
     ]
    }
   ],
   "source": [
    "api_req_limit = 60   # number of requests limited per minute\n",
    "number_of_sets = int(len(cities)/api_req_limit) + 1\n",
    "city_count = 0   # counter runs through the list cities\n",
    "\n",
    "# Variables to hold in the dataframe for each city\n",
    "latitude_lst = []\n",
    "longitude_lst = []\n",
    "max_temperature_lst = []\n",
    "humidity_lst = []\n",
    "cloud_coverage_lst = []\n",
    "wind_speed_lst = []\n",
    "country_lst = []\n",
    "datetime_lst = []\n",
    "\n",
    "for six in range(number_of_sets):\n",
    "    start_time = time.time()   # in seconds\n",
    "    for cix in range(api_req_limit):\n",
    "        try:\n",
    "            city = cities[city_count]\n",
    "        except IndexError:  # api_req_limit*number_of_sets may exceed len(cities), giving and IndexError\n",
    "            print(\"---------------------------\")\n",
    "            print(\"Data Retrieval Complete\")\n",
    "            print(\"---------------------------\")\n",
    "            break\n",
    "        print(\"Processing Record %d of Set %d | %s\" % (cix, six+1, city))\n",
    "        \n",
    "        request_url = \"https://api.openweathermap.org/data/2.5/weather?q=%s&appid=%s\" % (city, weather_api_key)\n",
    "        \n",
    "        try:\n",
    "            response = requests.get(request_url)\n",
    "            response_json = response.json()\n",
    "        \n",
    "            # Append information from json to a list\n",
    "            latitude_lst.append(response_json[\"coord\"][\"lat\"])\n",
    "            longitude_lst.append(response_json[\"coord\"][\"lon\"])\n",
    "            max_temperature_lst.append(response_json[\"main\"][\"temp_max\"])\n",
    "            humidity_lst.append(response_json[\"main\"][\"humidity\"])\n",
    "            cloud_coverage_lst.append(response_json[\"clouds\"][\"all\"])\n",
    "            wind_speed_lst.append(response_json[\"wind\"][\"speed\"])\n",
    "            country_lst.append(response_json[\"sys\"][\"country\"])\n",
    "            datetime_lst.append(response_json[\"dt\"])    \n",
    "        except:\n",
    "            print(\"City not found!\")\n",
    "                    \n",
    "        city_count += 1\n",
    "        time.sleep(1)\n",
    "    \n",
    "    set_time = time.time()\n",
    "    # Wait for additional amount until 1 min is reached\n",
    "    if (set_time - start_time) < 60:\n",
    "        print(\"waiting additional %d seconds before moving into the next Set\" % (60 - (set_time - start_time)))\n",
    "        time.sleep(np.ceil(60 - (set_time - start_time)))\n",
    "        "
   ]
  },
  {
   "cell_type": "markdown",
   "metadata": {},
   "source": [
    "### Convert Raw Data to DataFrame\n",
    "* Export the city data into a .csv.\n",
    "* Display the DataFrame"
   ]
  },
  {
   "cell_type": "code",
   "execution_count": 31,
   "metadata": {},
   "outputs": [
    {
     "ename": "HTTPError",
     "evalue": "404 Client Error: Not Found for url: https://api.openweathermap.org/data/2.5/weather?q=illoqqortoormiut&appid=243660c95e5c737c3666b1b5dd4c14c8",
     "output_type": "error",
     "traceback": [
      "\u001b[1;31m---------------------------------------------------------------------------\u001b[0m",
      "\u001b[1;31mHTTPError\u001b[0m                                 Traceback (most recent call last)",
      "\u001b[1;32m<ipython-input-31-98371c55c61f>\u001b[0m in \u001b[0;36m<module>\u001b[1;34m\u001b[0m\n\u001b[1;32m----> 1\u001b[1;33m \u001b[0mresponse\u001b[0m\u001b[1;33m.\u001b[0m\u001b[0mraise_for_status\u001b[0m\u001b[1;33m(\u001b[0m\u001b[1;33m)\u001b[0m\u001b[1;33m\u001b[0m\u001b[1;33m\u001b[0m\u001b[0m\n\u001b[0m",
      "\u001b[1;32m~\\miniconda3\\lib\\site-packages\\requests\\models.py\u001b[0m in \u001b[0;36mraise_for_status\u001b[1;34m(self)\u001b[0m\n\u001b[0;32m    939\u001b[0m \u001b[1;33m\u001b[0m\u001b[0m\n\u001b[0;32m    940\u001b[0m         \u001b[1;32mif\u001b[0m \u001b[0mhttp_error_msg\u001b[0m\u001b[1;33m:\u001b[0m\u001b[1;33m\u001b[0m\u001b[1;33m\u001b[0m\u001b[0m\n\u001b[1;32m--> 941\u001b[1;33m             \u001b[1;32mraise\u001b[0m \u001b[0mHTTPError\u001b[0m\u001b[1;33m(\u001b[0m\u001b[0mhttp_error_msg\u001b[0m\u001b[1;33m,\u001b[0m \u001b[0mresponse\u001b[0m\u001b[1;33m=\u001b[0m\u001b[0mself\u001b[0m\u001b[1;33m)\u001b[0m\u001b[1;33m\u001b[0m\u001b[1;33m\u001b[0m\u001b[0m\n\u001b[0m\u001b[0;32m    942\u001b[0m \u001b[1;33m\u001b[0m\u001b[0m\n\u001b[0;32m    943\u001b[0m     \u001b[1;32mdef\u001b[0m \u001b[0mclose\u001b[0m\u001b[1;33m(\u001b[0m\u001b[0mself\u001b[0m\u001b[1;33m)\u001b[0m\u001b[1;33m:\u001b[0m\u001b[1;33m\u001b[0m\u001b[1;33m\u001b[0m\u001b[0m\n",
      "\u001b[1;31mHTTPError\u001b[0m: 404 Client Error: Not Found for url: https://api.openweathermap.org/data/2.5/weather?q=illoqqortoormiut&appid=243660c95e5c737c3666b1b5dd4c14c8"
     ]
    }
   ],
   "source": [
    "response.raise_for_status()"
   ]
  },
  {
   "cell_type": "code",
   "execution_count": null,
   "metadata": {},
   "outputs": [],
   "source": []
  },
  {
   "cell_type": "markdown",
   "metadata": {},
   "source": [
    "## Inspect the data and remove the cities where the humidity > 100%.\n",
    "----\n",
    "Skip this step if there are no cities that have humidity > 100%. "
   ]
  },
  {
   "cell_type": "code",
   "execution_count": null,
   "metadata": {},
   "outputs": [],
   "source": []
  },
  {
   "cell_type": "code",
   "execution_count": null,
   "metadata": {},
   "outputs": [],
   "source": [
    "#  Get the indices of cities that have humidity over 100%.\n"
   ]
  },
  {
   "cell_type": "code",
   "execution_count": null,
   "metadata": {},
   "outputs": [],
   "source": [
    "# Make a new DataFrame equal to the city data to drop all humidity outliers by index.\n",
    "# Passing \"inplace=False\" will make a copy of the city_data DataFrame, which we call \"clean_city_data\".\n"
   ]
  },
  {
   "cell_type": "code",
   "execution_count": null,
   "metadata": {},
   "outputs": [],
   "source": [
    "\n"
   ]
  },
  {
   "cell_type": "markdown",
   "metadata": {},
   "source": [
    "## Plotting the Data\n",
    "* Use proper labeling of the plots using plot titles (including date of analysis) and axes labels.\n",
    "* Save the plotted figures as .pngs."
   ]
  },
  {
   "cell_type": "markdown",
   "metadata": {},
   "source": [
    "## Latitude vs. Temperature Plot"
   ]
  },
  {
   "cell_type": "code",
   "execution_count": null,
   "metadata": {
    "scrolled": true
   },
   "outputs": [],
   "source": []
  },
  {
   "cell_type": "markdown",
   "metadata": {},
   "source": [
    "## Latitude vs. Humidity Plot"
   ]
  },
  {
   "cell_type": "code",
   "execution_count": null,
   "metadata": {},
   "outputs": [],
   "source": []
  },
  {
   "cell_type": "markdown",
   "metadata": {},
   "source": [
    "## Latitude vs. Cloudiness Plot"
   ]
  },
  {
   "cell_type": "code",
   "execution_count": null,
   "metadata": {},
   "outputs": [],
   "source": []
  },
  {
   "cell_type": "markdown",
   "metadata": {},
   "source": [
    "## Latitude vs. Wind Speed Plot"
   ]
  },
  {
   "cell_type": "code",
   "execution_count": null,
   "metadata": {},
   "outputs": [],
   "source": []
  },
  {
   "cell_type": "markdown",
   "metadata": {},
   "source": [
    "## Linear Regression"
   ]
  },
  {
   "cell_type": "code",
   "execution_count": null,
   "metadata": {},
   "outputs": [],
   "source": []
  },
  {
   "cell_type": "markdown",
   "metadata": {},
   "source": [
    "####  Northern Hemisphere - Max Temp vs. Latitude Linear Regression"
   ]
  },
  {
   "cell_type": "code",
   "execution_count": null,
   "metadata": {},
   "outputs": [],
   "source": []
  },
  {
   "cell_type": "markdown",
   "metadata": {},
   "source": [
    "####  Southern Hemisphere - Max Temp vs. Latitude Linear Regression"
   ]
  },
  {
   "cell_type": "code",
   "execution_count": null,
   "metadata": {},
   "outputs": [],
   "source": []
  },
  {
   "cell_type": "markdown",
   "metadata": {},
   "source": [
    "####  Northern Hemisphere - Humidity (%) vs. Latitude Linear Regression"
   ]
  },
  {
   "cell_type": "code",
   "execution_count": null,
   "metadata": {},
   "outputs": [],
   "source": []
  },
  {
   "cell_type": "markdown",
   "metadata": {},
   "source": [
    "####  Southern Hemisphere - Humidity (%) vs. Latitude Linear Regression"
   ]
  },
  {
   "cell_type": "code",
   "execution_count": null,
   "metadata": {},
   "outputs": [],
   "source": []
  },
  {
   "cell_type": "markdown",
   "metadata": {},
   "source": [
    "####  Northern Hemisphere - Cloudiness (%) vs. Latitude Linear Regression"
   ]
  },
  {
   "cell_type": "code",
   "execution_count": null,
   "metadata": {},
   "outputs": [],
   "source": []
  },
  {
   "cell_type": "markdown",
   "metadata": {},
   "source": [
    "####  Southern Hemisphere - Cloudiness (%) vs. Latitude Linear Regression"
   ]
  },
  {
   "cell_type": "code",
   "execution_count": null,
   "metadata": {},
   "outputs": [],
   "source": []
  },
  {
   "cell_type": "markdown",
   "metadata": {},
   "source": [
    "####  Northern Hemisphere - Wind Speed (mph) vs. Latitude Linear Regression"
   ]
  },
  {
   "cell_type": "code",
   "execution_count": null,
   "metadata": {},
   "outputs": [],
   "source": []
  },
  {
   "cell_type": "markdown",
   "metadata": {},
   "source": [
    "####  Southern Hemisphere - Wind Speed (mph) vs. Latitude Linear Regression"
   ]
  },
  {
   "cell_type": "code",
   "execution_count": null,
   "metadata": {},
   "outputs": [],
   "source": []
  },
  {
   "cell_type": "code",
   "execution_count": null,
   "metadata": {},
   "outputs": [],
   "source": []
  }
 ],
 "metadata": {
  "anaconda-cloud": {},
  "kernel_info": {
   "name": "python3"
  },
  "kernelspec": {
   "display_name": "Python 3",
   "language": "python",
   "name": "python3"
  },
  "language_info": {
   "codemirror_mode": {
    "name": "ipython",
    "version": 3
   },
   "file_extension": ".py",
   "mimetype": "text/x-python",
   "name": "python",
   "nbconvert_exporter": "python",
   "pygments_lexer": "ipython3",
   "version": "3.8.5"
  },
  "latex_envs": {
   "LaTeX_envs_menu_present": true,
   "autoclose": false,
   "autocomplete": true,
   "bibliofile": "biblio.bib",
   "cite_by": "apalike",
   "current_citInitial": 1,
   "eqLabelWithNumbers": true,
   "eqNumInitial": 1,
   "hotkeys": {
    "equation": "Ctrl-E",
    "itemize": "Ctrl-I"
   },
   "labels_anchors": false,
   "latex_user_defs": false,
   "report_style_numbering": false,
   "user_envs_cfg": false
  },
  "nteract": {
   "version": "0.12.3"
  }
 },
 "nbformat": 4,
 "nbformat_minor": 2
}
